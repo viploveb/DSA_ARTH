{
 "cells": [
  {
   "cell_type": "markdown",
   "metadata": {},
   "source": [
    "# Recursion\n",
    "## Day - 1"
   ]
  },
  {
   "cell_type": "markdown",
   "metadata": {},
   "source": [
    "### Question - 1 \n",
    "The Fibonacci sequence is defined as follows: the first number of the sequence is 0, the second number is 1 and the nth number is the sum of the (n - 1)th and (n - 2)th numbers. Write a function that takes in an integer n and returns the nth Fibonacci number."
   ]
  },
  {
   "cell_type": "code",
   "execution_count": 35,
   "metadata": {},
   "outputs": [
    {
     "data": {
      "text/plain": [
       "'\\ndef fibo(n):\\n    if n == 0:\\n        return 0\\n    if n == 2 or n ==1:\\n        return 1\\n    else:\\n        return fibo(n-1) + fibo(n-2)\\n'"
      ]
     },
     "execution_count": 35,
     "metadata": {},
     "output_type": "execute_result"
    }
   ],
   "source": [
    "def fibo(n):\n",
    "    if n == 1:\n",
    "        return 0\n",
    "    if n == 2:\n",
    "        return 1\n",
    "    else:\n",
    "        return fibo(n-1) + fibo(n-2)\n",
    "'''\n",
    "def fibo(n):\n",
    "    if n == 0:\n",
    "        return 0\n",
    "    if n == 2 or n ==1:\n",
    "        return 1\n",
    "    else:\n",
    "        return fibo(n-1) + fibo(n-2)\n",
    "'''"
   ]
  },
  {
   "cell_type": "code",
   "execution_count": 36,
   "metadata": {},
   "outputs": [
    {
     "data": {
      "text/plain": [
       "5"
      ]
     },
     "execution_count": 36,
     "metadata": {},
     "output_type": "execute_result"
    }
   ],
   "source": [
    "fibo(6)"
   ]
  },
  {
   "cell_type": "markdown",
   "metadata": {},
   "source": [
    "### Question - 2\n",
    "Write a function that takes in a \"special\" array and returns its product sum.  A \"special\" array is a non-empty array that contains either integers or other  \"special\" arrays. The product sum of a \"special\" array is the sum of its  elements, where \"special\" arrays inside it are summed themselves and then multiplied by their level of depth."
   ]
  },
  {
   "cell_type": "markdown",
   "metadata": {},
   "source": [
    "The depth of a \"special\" array is how far nested it is. For instance, the\n",
    " depth of []is 1; the depth of the inner array in\n",
    " [[]] is 2; the depth of the innermost array in\n",
    " [[[]]] is 3.\n",
    " Therefore, the product sum of [x, y] is x + y; the\n",
    " product sum of [x, [y, z]] is x + 2 * (y + z); the\n",
    " product sum of [x, [y, [z]]] is x + 2 * (y + 3z)."
   ]
  },
  {
   "cell_type": "code",
   "execution_count": 170,
   "metadata": {},
   "outputs": [],
   "source": [
    "def special(array,m=1):\n",
    "    result = 0\n",
    "    for element in array:\n",
    "        if type(element) == list:\n",
    "            result += special(element,m+1)\n",
    "        else:\n",
    "            result += element\n",
    "    return result * m"
   ]
  },
  {
   "cell_type": "code",
   "execution_count": 180,
   "metadata": {},
   "outputs": [
    {
     "data": {
      "text/plain": [
       "79"
      ]
     },
     "execution_count": 180,
     "metadata": {},
     "output_type": "execute_result"
    }
   ],
   "source": [
    "special([5,2,7,[4,5],1,[2,[3,4]]])"
   ]
  },
  {
   "cell_type": "code",
   "execution_count": 175,
   "metadata": {},
   "outputs": [],
   "source": [
    "#x = [5,7,3,[7,4],2]"
   ]
  },
  {
   "cell_type": "code",
   "execution_count": 176,
   "metadata": {},
   "outputs": [],
   "source": [
    "#sum(x[3]*2)"
   ]
  },
  {
   "cell_type": "code",
   "execution_count": 177,
   "metadata": {},
   "outputs": [
    {
     "data": {
      "text/plain": [
       "'def special(x):\\n    multiplier = 1\\n    result = 0\\n    for element in x:\\n        if type(element) == list:\\n            l = len(element)\\n            multiplier += 1\\n            print(multiplier*sum(element))\\n            #result += multiplier*sum(element)\\n            y = sum(element*multiplier)\\n            special(y)\\n        else:\\n            result += element\\n    return result\\n'"
      ]
     },
     "execution_count": 177,
     "metadata": {},
     "output_type": "execute_result"
    }
   ],
   "source": [
    "'''def special(x):\n",
    "    multiplier = 1\n",
    "    result = 0\n",
    "    for element in x:\n",
    "        if type(element) == list:\n",
    "            l = len(element)\n",
    "            multiplier += 1\n",
    "            print(multiplier*sum(element))\n",
    "            #result += multiplier*sum(element)\n",
    "            y = sum(element*multiplier)\n",
    "            special(y)\n",
    "        else:\n",
    "            result += element\n",
    "    return result\n",
    "'''"
   ]
  },
  {
   "cell_type": "code",
   "execution_count": 178,
   "metadata": {},
   "outputs": [],
   "source": [
    "#special(x)"
   ]
  },
  {
   "cell_type": "markdown",
   "metadata": {},
   "source": [
    "### Question - 3 "
   ]
  },
  {
   "cell_type": "markdown",
   "metadata": {},
   "source": [
    "Write a function that takes in an array of unique integers and returns an array of all permutations of those integers in no particular order.\n",
    "If the input array is empty, the function should return an empty array"
   ]
  },
  {
   "cell_type": "code",
   "execution_count": 121,
   "metadata": {},
   "outputs": [],
   "source": [
    "def driver():\n",
    "    array = ['A','B','C']\n",
    "    n = len(array)\n",
    "    l = 0\n",
    "    r = n \n",
    "    perm(array, l, r)\n",
    "\n",
    "result = []\n",
    "def perm(array, l, r):\n",
    "    if l == r:\n",
    "        result.append(' '.join(array))\n",
    "    else:\n",
    "        for i in range(l,r):\n",
    "            array[i], array[l] = array[l], array[i]\n",
    "            perm(array, l + 1 , r)\n",
    "            array[i], array[l] = array[l], array[i]    "
   ]
  },
  {
   "cell_type": "code",
   "execution_count": 122,
   "metadata": {},
   "outputs": [],
   "source": [
    "driver()"
   ]
  },
  {
   "cell_type": "code",
   "execution_count": 123,
   "metadata": {},
   "outputs": [
    {
     "name": "stdout",
     "output_type": "stream",
     "text": [
      "['A B C', 'A C B', 'B A C', 'B C A', 'C B A', 'C A B']\n"
     ]
    }
   ],
   "source": [
    "print(result)"
   ]
  },
  {
   "cell_type": "code",
   "execution_count": null,
   "metadata": {},
   "outputs": [],
   "source": []
  }
 ],
 "metadata": {
  "kernelspec": {
   "display_name": "Python 3",
   "language": "python",
   "name": "python3"
  },
  "language_info": {
   "codemirror_mode": {
    "name": "ipython",
    "version": 3
   },
   "file_extension": ".py",
   "mimetype": "text/x-python",
   "name": "python",
   "nbconvert_exporter": "python",
   "pygments_lexer": "ipython3",
   "version": "3.8.5"
  }
 },
 "nbformat": 4,
 "nbformat_minor": 4
}
